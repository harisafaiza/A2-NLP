{
  "nbformat": 4,
  "nbformat_minor": 0,
  "metadata": {
    "colab": {
      "provenance": []
    },
    "kernelspec": {
      "name": "python3",
      "display_name": "Python 3"
    },
    "language_info": {
      "name": "python"
    }
  },
  "cells": [
    {
      "cell_type": "code",
      "source": [
        "# Required imports\n",
        "import torch\n",
        "import torch.nn as nn\n",
        "from torch.optim import Adam\n",
        "\n",
        "# Example text\n",
        "text = \"The quick brown fox jumps over the lazy dog\"\n",
        "\n",
        "# Tokenize and create vocabulary\n",
        "tokens = text.lower().split()\n",
        "vocab = {word: idx for idx, word in enumerate(set(tokens))}\n",
        "vocab_size = len(vocab)\n",
        "\n",
        "# Attention mechanism\n",
        "class Attention(nn.Module):\n",
        "    def __init__(self, hidden_size):\n",
        "        super(Attention, self).__init__()\n",
        "        self.attention = nn.Linear(hidden_size, 1, bias=False)\n",
        "\n",
        "    def forward(self, hidden_states):\n",
        "        scores = self.attention(hidden_states).squeeze(-1)\n",
        "        weights = torch.softmax(scores, dim=1)\n",
        "        context = torch.sum(hidden_states * weights.unsqueeze(-1), dim=1)\n",
        "        return context, weights\n",
        "\n",
        "# LSTM with Attention\n",
        "class LSTMWithAttention(nn.Module):\n",
        "    def __init__(self, vocab_size, embed_size, hidden_size):\n",
        "        super(LSTMWithAttention, self).__init__()\n",
        "        self.embedding = nn.Embedding(vocab_size, embed_size)\n",
        "        self.lstm = nn.LSTM(embed_size, hidden_size, batch_first=True)\n",
        "        self.attention = Attention(hidden_size)\n",
        "        self.fc = nn.Linear(hidden_size, vocab_size)\n",
        "\n",
        "    def forward(self, x):\n",
        "        embedded = self.embedding(x)\n",
        "        lstm_out, _ = self.lstm(embedded)\n",
        "        context, _ = self.attention(lstm_out)\n",
        "        out = self.fc(context)\n",
        "        return out\n",
        "\n",
        "# Initialize model\n",
        "attention_model = LSTMWithAttention(vocab_size, embed_size=10, hidden_size=50)\n",
        "criterion = nn.CrossEntropyLoss()\n",
        "optimizer = Adam(attention_model.parameters(), lr=0.001)\n",
        "\n",
        "print(f\"Model initialized with vocab size: {vocab_size}\")\n"
      ],
      "metadata": {
        "colab": {
          "base_uri": "https://localhost:8080/"
        },
        "id": "7_r7ptfwbio_",
        "outputId": "42c8131b-7a62-4f35-a7c7-5cdd4728634b"
      },
      "execution_count": 1,
      "outputs": [
        {
          "output_type": "stream",
          "name": "stdout",
          "text": [
            "Model initialized with vocab size: 8\n"
          ]
        }
      ]
    },
    {
      "cell_type": "code",
      "source": [
        "import os\n",
        "\n",
        "# Create the directory\n",
        "os.makedirs(\"model\", exist_ok=True)\n"
      ],
      "metadata": {
        "id": "F_wSPc4o_ERT"
      },
      "execution_count": 4,
      "outputs": []
    },
    {
      "cell_type": "code",
      "source": [
        "import os\n",
        "print(\"Current Working Directory:\", os.getcwd())\n"
      ],
      "metadata": {
        "colab": {
          "base_uri": "https://localhost:8080/"
        },
        "id": "8LZwWmXn_R-b",
        "outputId": "448d190b-b5cd-46ef-e81d-af953ab64798"
      },
      "execution_count": 5,
      "outputs": [
        {
          "output_type": "stream",
          "name": "stdout",
          "text": [
            "Current Working Directory: /content\n"
          ]
        }
      ]
    },
    {
      "cell_type": "code",
      "source": [
        "# Save Attention Model\n",
        "torch.save(attention_model, \"model/attention_model.pt\")\n",
        "print(\"Attention model saved successfully!\")"
      ],
      "metadata": {
        "colab": {
          "base_uri": "https://localhost:8080/"
        },
        "id": "4XVKBxqW9WG9",
        "outputId": "bbca0d1e-1a05-48f7-aa58-a5336c166916"
      },
      "execution_count": 6,
      "outputs": [
        {
          "output_type": "stream",
          "name": "stdout",
          "text": [
            "Attention model saved successfully!\n"
          ]
        }
      ]
    }
  ]
}