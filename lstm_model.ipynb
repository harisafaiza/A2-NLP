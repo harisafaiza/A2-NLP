{
  "nbformat": 4,
  "nbformat_minor": 0,
  "metadata": {
    "colab": {
      "provenance": []
    },
    "kernelspec": {
      "name": "python3",
      "display_name": "Python 3"
    },
    "language_info": {
      "name": "python"
    }
  },
  "cells": [
    {
      "cell_type": "code",
      "execution_count": 2,
      "metadata": {
        "id": "wACzj6GPZ0Ch"
      },
      "outputs": [],
      "source": [
        "import torch\n",
        "import torch.nn as nn\n",
        "from torch.utils.data import DataLoader, Dataset\n",
        "from torch.optim import Adam\n",
        "import numpy as np\n",
        "from collections import Counter\n",
        "import random\n"
      ]
    },
    {
      "cell_type": "code",
      "source": [
        "#Data Preparation\n",
        "# Sample dataset\n",
        "text = \"The quick brown fox jumps over the lazy dog\"\n",
        "\n",
        "# Tokenize and create vocabulary\n",
        "tokens = text.lower().split()\n",
        "vocab = {word: idx for idx, word in enumerate(set(tokens))}\n",
        "vocab_size = len(vocab)\n",
        "\n",
        "# Convert words to indices\n",
        "encoded = [vocab[word] for word in tokens]\n",
        "\n",
        "# Generate input-output pairs\n",
        "def create_sequences(encoded, seq_length):\n",
        "    sequences = []\n",
        "    for i in range(len(encoded) - seq_length):\n",
        "        seq = encoded[i:i+seq_length]\n",
        "        target = encoded[i+seq_length]\n",
        "        sequences.append((seq, target))\n",
        "    return sequences\n",
        "\n",
        "sequence_length = 3\n",
        "data = create_sequences(encoded, sequence_length)\n"
      ],
      "metadata": {
        "id": "uhKJIL1UZ7ft"
      },
      "execution_count": 3,
      "outputs": []
    },
    {
      "cell_type": "code",
      "source": [
        "#Dataset and data loader\n",
        "class TextDataset(Dataset):\n",
        "    def __init__(self, data):\n",
        "        self.data = data\n",
        "\n",
        "    def __len__(self):\n",
        "        return len(self.data)\n",
        "\n",
        "    def __getitem__(self, idx):\n",
        "        x, y = self.data[idx]\n",
        "        return torch.tensor(x, dtype=torch.long), torch.tensor(y, dtype=torch.long)\n",
        "\n",
        "dataset = TextDataset(data)\n",
        "dataloader = DataLoader(dataset, batch_size=2, shuffle=True)\n"
      ],
      "metadata": {
        "id": "RDWZ2AE2aAMV"
      },
      "execution_count": 4,
      "outputs": []
    },
    {
      "cell_type": "code",
      "source": [
        "#LSTM Model\n",
        "class LSTMModel(nn.Module):\n",
        "    def __init__(self, vocab_size, embed_size, hidden_size):\n",
        "        super(LSTMModel, self).__init__()\n",
        "        self.embedding = nn.Embedding(vocab_size, embed_size)\n",
        "        self.lstm = nn.LSTM(embed_size, hidden_size, batch_first=True)\n",
        "        self.fc = nn.Linear(hidden_size, vocab_size)\n",
        "\n",
        "    def forward(self, x):\n",
        "        embedded = self.embedding(x)\n",
        "        out, _ = self.lstm(embedded)\n",
        "        out = self.fc(out[:, -1, :])  # Output from the last time step\n",
        "        return out\n",
        "\n",
        "model = LSTMModel(vocab_size, embed_size=10, hidden_size=50)"
      ],
      "metadata": {
        "id": "ZEqfWvoMaIwz"
      },
      "execution_count": 5,
      "outputs": []
    },
    {
      "cell_type": "code",
      "source": [
        "#Training\n",
        "criterion = nn.CrossEntropyLoss()\n",
        "optimizer = Adam(model.parameters(), lr=0.001)\n",
        "\n",
        "# Training loop\n",
        "epochs = 100\n",
        "for epoch in range(epochs):\n",
        "    for x, y in dataloader:\n",
        "        optimizer.zero_grad()\n",
        "        output = model(x)\n",
        "        loss = criterion(output, y)\n",
        "        loss.backward()\n",
        "        optimizer.step()\n",
        "\n",
        "    if (epoch+1) % 10 == 0:\n",
        "        print(f\"Epoch {epoch+1}/{epochs}, Loss: {loss.item():.4f}\")\n"
      ],
      "metadata": {
        "colab": {
          "base_uri": "https://localhost:8080/"
        },
        "id": "uc8IGYqBaSbh",
        "outputId": "03e7f7d0-f541-402a-a074-52a11c3e692e"
      },
      "execution_count": 6,
      "outputs": [
        {
          "output_type": "stream",
          "name": "stdout",
          "text": [
            "Epoch 10/100, Loss: 2.0139\n",
            "Epoch 20/100, Loss: 1.5370\n",
            "Epoch 30/100, Loss: 1.0774\n",
            "Epoch 40/100, Loss: 0.4826\n",
            "Epoch 50/100, Loss: 0.2177\n",
            "Epoch 60/100, Loss: 0.0937\n",
            "Epoch 70/100, Loss: 0.0575\n",
            "Epoch 80/100, Loss: 0.0403\n",
            "Epoch 90/100, Loss: 0.0328\n",
            "Epoch 100/100, Loss: 0.0244\n"
          ]
        }
      ]
    },
    {
      "cell_type": "code",
      "source": [
        "import os\n",
        "import torch\n",
        "import torch.nn as nn\n",
        "\n",
        "# Define a simple LSTM model\n",
        "class LSTMModel(nn.Module):\n",
        "    def __init__(self, vocab_size, embed_size, hidden_size):\n",
        "        super(LSTMModel, self).__init__()\n",
        "        self.embedding = nn.Embedding(vocab_size, embed_size)\n",
        "        self.lstm = nn.LSTM(embed_size, hidden_size, batch_first=True)\n",
        "        self.fc = nn.Linear(hidden_size, vocab_size)\n",
        "\n",
        "    def forward(self, x):\n",
        "        embedded = self.embedding(x)\n",
        "        lstm_out, _ = self.lstm(embedded)\n",
        "        out = self.fc(lstm_out[:, -1, :])\n",
        "        return out\n",
        "\n",
        "# Parameters for the model\n",
        "vocab_size = 1000\n",
        "embed_size = 128\n",
        "hidden_size = 256\n",
        "\n",
        "# Initialize the model\n",
        "lstm_model = LSTMModel(vocab_size, embed_size, hidden_size)\n",
        "\n",
        "# Create the directory if it doesn't exist\n",
        "os.makedirs(\"model\", exist_ok=True)\n",
        "\n",
        "# Save the model\n",
        "torch.save(lstm_model, \"model/lstm_model.pt\")\n",
        "print(\"Model saved to 'model/lstm_model.pt'\")\n"
      ],
      "metadata": {
        "colab": {
          "base_uri": "https://localhost:8080/"
        },
        "id": "hFGtmw4M__62",
        "outputId": "c41b97f9-cf11-45eb-9619-765751845e81"
      },
      "execution_count": 7,
      "outputs": [
        {
          "output_type": "stream",
          "name": "stdout",
          "text": [
            "Model saved to 'model/lstm_model.pt'\n"
          ]
        }
      ]
    },
    {
      "cell_type": "code",
      "source": [
        "import os\n",
        "\n",
        "# Create the directory\n",
        "os.makedirs(\"model\", exist_ok=True)\n"
      ],
      "metadata": {
        "id": "t3ds8VWZ9byj"
      },
      "execution_count": 8,
      "outputs": []
    },
    {
      "cell_type": "code",
      "source": [
        "import os\n",
        "print(\"Current Working Directory:\", os.getcwd())\n"
      ],
      "metadata": {
        "colab": {
          "base_uri": "https://localhost:8080/"
        },
        "id": "q-F3LpyL9cym",
        "outputId": "5f0ed35a-adb1-4126-ef92-81ec2b3c23ec"
      },
      "execution_count": 9,
      "outputs": [
        {
          "output_type": "stream",
          "name": "stdout",
          "text": [
            "Current Working Directory: /content\n"
          ]
        }
      ]
    },
    {
      "cell_type": "code",
      "source": [
        "import torch\n",
        "\n",
        "# Assuming lstm_model is defined\n",
        "torch.save(lstm_model, \"model/lstm_model.pt\")\n",
        "print(\"LSTM model saved successfully!\")\n"
      ],
      "metadata": {
        "colab": {
          "base_uri": "https://localhost:8080/"
        },
        "id": "WYfHmPRr9mQq",
        "outputId": "eecb2a1a-4e41-4b5f-ab9c-cc3b77cab000"
      },
      "execution_count": 10,
      "outputs": [
        {
          "output_type": "stream",
          "name": "stdout",
          "text": [
            "LSTM model saved successfully!\n"
          ]
        }
      ]
    },
    {
      "cell_type": "code",
      "source": [
        "import os\n",
        "import torch\n",
        "\n",
        "# Ensure the working directory is correct\n",
        "print(\"Current Working Directory:\", os.getcwd())\n",
        "\n",
        "# Verify the model file exists\n",
        "if not os.path.exists(\"model/lstm_model.pt\"):\n",
        "    print(\"Model file not found in 'model/'. Please check the file path.\")\n",
        "else:\n",
        "    # Load the model\n",
        "    lstm_model = torch.load(\"model/lstm_model.pt\")\n",
        "    print(\"Model loaded successfully!\")\n"
      ],
      "metadata": {
        "colab": {
          "base_uri": "https://localhost:8080/"
        },
        "id": "E3luuH7UAiR6",
        "outputId": "2f4cf213-e780-4f23-a800-b34ae22d9eed"
      },
      "execution_count": 11,
      "outputs": [
        {
          "output_type": "stream",
          "name": "stdout",
          "text": [
            "Current Working Directory: /content\n",
            "Model loaded successfully!\n"
          ]
        },
        {
          "output_type": "stream",
          "name": "stderr",
          "text": [
            "<ipython-input-11-53899f824815>:12: FutureWarning: You are using `torch.load` with `weights_only=False` (the current default value), which uses the default pickle module implicitly. It is possible to construct malicious pickle data which will execute arbitrary code during unpickling (See https://github.com/pytorch/pytorch/blob/main/SECURITY.md#untrusted-models for more details). In a future release, the default value for `weights_only` will be flipped to `True`. This limits the functions that could be executed during unpickling. Arbitrary objects will no longer be allowed to be loaded via this mode unless they are explicitly allowlisted by the user via `torch.serialization.add_safe_globals`. We recommend you start setting `weights_only=True` for any use case where you don't have full control of the loaded file. Please open an issue on GitHub for any issues related to this experimental feature.\n",
            "  lstm_model = torch.load(\"model/lstm_model.pt\")\n"
          ]
        }
      ]
    },
    {
      "cell_type": "code",
      "source": [
        "torch.load(\"model/lstm_model.pt\")\n"
      ],
      "metadata": {
        "colab": {
          "base_uri": "https://localhost:8080/"
        },
        "id": "EBYsRrjHBQjT",
        "outputId": "2c690e62-848c-4c7c-8186-b40d1a7dc0e4"
      },
      "execution_count": 12,
      "outputs": [
        {
          "output_type": "stream",
          "name": "stderr",
          "text": [
            "<ipython-input-12-6b85a0eb0209>:1: FutureWarning: You are using `torch.load` with `weights_only=False` (the current default value), which uses the default pickle module implicitly. It is possible to construct malicious pickle data which will execute arbitrary code during unpickling (See https://github.com/pytorch/pytorch/blob/main/SECURITY.md#untrusted-models for more details). In a future release, the default value for `weights_only` will be flipped to `True`. This limits the functions that could be executed during unpickling. Arbitrary objects will no longer be allowed to be loaded via this mode unless they are explicitly allowlisted by the user via `torch.serialization.add_safe_globals`. We recommend you start setting `weights_only=True` for any use case where you don't have full control of the loaded file. Please open an issue on GitHub for any issues related to this experimental feature.\n",
            "  torch.load(\"model/lstm_model.pt\")\n"
          ]
        },
        {
          "output_type": "execute_result",
          "data": {
            "text/plain": [
              "LSTMModel(\n",
              "  (embedding): Embedding(1000, 128)\n",
              "  (lstm): LSTM(128, 256, batch_first=True)\n",
              "  (fc): Linear(in_features=256, out_features=1000, bias=True)\n",
              ")"
            ]
          },
          "metadata": {},
          "execution_count": 12
        }
      ]
    },
    {
      "cell_type": "code",
      "source": [
        "import os\n",
        "import torch\n",
        "\n",
        "# Check if 'model/' directory exists, if not, create it\n",
        "if not os.path.exists(\"model\"):\n",
        "    os.makedirs(\"model\")\n",
        "    print(\"'model/' directory created!\")\n",
        "\n",
        "# Dummy Model class (replace with your actual trained model)\n",
        "class DummyModel(torch.nn.Module):\n",
        "    def __init__(self):\n",
        "        super(DummyModel, self).__init__()\n",
        "\n",
        "lstm_model = DummyModel()\n",
        "\n",
        "# Save the model\n",
        "torch.save(lstm_model, \"model/lstm_model.pt\")\n",
        "print(\"Model saved to 'model/lstm_model.pt'\")\n",
        "\n",
        "# Verify the 'model/' directory contents\n",
        "print(\"Contents of 'model/' directory:\", os.listdir(\"model\"))\n"
      ],
      "metadata": {
        "colab": {
          "base_uri": "https://localhost:8080/"
        },
        "id": "c0WclOVqC1vF",
        "outputId": "2ecbba7e-eec8-4a42-ef1b-c54d23f1537d"
      },
      "execution_count": 14,
      "outputs": [
        {
          "output_type": "stream",
          "name": "stdout",
          "text": [
            "Model saved to 'model/lstm_model.pt'\n",
            "Contents of 'model/' directory: ['lstm_model.pt']\n"
          ]
        }
      ]
    },
    {
      "cell_type": "code",
      "source": [
        "import os\n",
        "print(\"Contents of 'model/' directory:\", os.listdir(\"model\") if os.path.exists(\"model\") else \"Directory not found\")\n"
      ],
      "metadata": {
        "colab": {
          "base_uri": "https://localhost:8080/"
        },
        "id": "aTVkKp3GDG5F",
        "outputId": "fd933c94-35bb-4b57-8d40-f53cb28a0b2e"
      },
      "execution_count": 15,
      "outputs": [
        {
          "output_type": "stream",
          "name": "stdout",
          "text": [
            "Contents of 'model/' directory: ['lstm_model.pt']\n"
          ]
        }
      ]
    },
    {
      "cell_type": "code",
      "source": [
        "torch.save(lstm_model, \"model/lstm_model.pt\")\n",
        "print(\"Model saved to 'model/lstm_model.pt'\")\n"
      ],
      "metadata": {
        "colab": {
          "base_uri": "https://localhost:8080/"
        },
        "id": "hrnMTs7-DPJ8",
        "outputId": "51e38a2f-559b-4b10-9527-8ff1939700ad"
      },
      "execution_count": 16,
      "outputs": [
        {
          "output_type": "stream",
          "name": "stdout",
          "text": [
            "Model saved to 'model/lstm_model.pt'\n"
          ]
        }
      ]
    },
    {
      "cell_type": "code",
      "source": [
        "import os\n",
        "print(\"Current Working Directory in lstm_model.py:\", os.getcwd())\n",
        "print(\"Contents of 'model/' directory in lstm_model.py:\", os.listdir(\"model\") if os.path.exists(\"model\") else \"Directory not found\")\n"
      ],
      "metadata": {
        "colab": {
          "base_uri": "https://localhost:8080/"
        },
        "id": "x6uNSREADkMS",
        "outputId": "6e28a74c-e883-4eee-c424-bdf8f130ae11"
      },
      "execution_count": 17,
      "outputs": [
        {
          "output_type": "stream",
          "name": "stdout",
          "text": [
            "Current Working Directory in lstm_model.py: /content\n",
            "Contents of 'model/' directory in lstm_model.py: ['lstm_model.pt']\n"
          ]
        }
      ]
    }
  ]
}